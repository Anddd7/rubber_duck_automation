{
 "cells": [
  {
   "cell_type": "markdown",
   "metadata": {},
   "source": [
    "# How to use parameters\n",
    "\n",
    "use parameters to extract the variables of the notebook. then copy and modify the parameters to re-execute it.\n",
    "\n",
    "Or use papermill to execute the notebook with parameters."
   ]
  },
  {
   "cell_type": "markdown",
   "metadata": {},
   "source": [
    "## set parameter\n",
    "\n",
    "assign the value to the variable in the first cell of the notebook."
   ]
  },
  {
   "cell_type": "code",
   "execution_count": 31,
   "metadata": {
    "tags": [
     "parameters"
    ]
   },
   "outputs": [],
   "source": [
    "author = \"John Doe\"\n",
    "date = \"2023-11-11\"\n",
    "title = \"How to use parameters\"\n",
    "tags = [\"jupyter\", \"python\", \"parameters\"]\n",
    "id = 9001"
   ]
  },
  {
   "cell_type": "markdown",
   "metadata": {},
   "source": [
    "## use parameter\n",
    "\n",
    "use it as python variable"
   ]
  },
  {
   "cell_type": "code",
   "execution_count": 32,
   "metadata": {
    "tags": []
   },
   "outputs": [
    {
     "name": "stdout",
     "output_type": "stream",
     "text": [
      "Author: John Doe\n",
      "Date: 2023-11-11\n",
      "Title: How to use parameters\n",
      "Tags: ['jupyter', 'python', 'parameters']\n",
      "Id: 9001\n"
     ]
    }
   ],
   "source": [
    "print(f\"Author: {author}\")\n",
    "print(f\"Date: {date}\")\n",
    "print(f\"Title: {title}\")\n",
    "print(f\"Tags: {tags}\")\n",
    "print(f\"Id: {id}\")"
   ]
  },
  {
   "cell_type": "markdown",
   "metadata": {},
   "source": [
    "## use parameter in bash\n",
    "\n",
    "if you want to use it in bash, you have to pass the param as the argument of the bash magic."
   ]
  },
  {
   "cell_type": "code",
   "execution_count": 33,
   "metadata": {
    "vscode": {
     "languageId": "shellscript"
    }
   },
   "outputs": [
    {
     "name": "stdout",
     "output_type": "stream",
     "text": [
      "Author: John Doe\n",
      "Date: 2023-11-11\n",
      "Title: How to use parameters\n",
      "Tags: [jupyter, python, parameters]\n",
      "ID: 9001\n"
     ]
    }
   ],
   "source": [
    "%%bash -s '{author}' '{date}' '{title}' '{tags}' '{id}'\n",
    "\n",
    "echo \"Author: $1\"\n",
    "echo \"Date: $2\"\n",
    "echo \"Title: $3\"\n",
    "echo \"Tags: $4\"\n",
    "echo \"ID: $5\""
   ]
  },
  {
   "cell_type": "markdown",
   "metadata": {},
   "source": [
    "## change parameter value\n",
    "\n",
    "just reassign the value to the variable."
   ]
  },
  {
   "cell_type": "code",
   "execution_count": 34,
   "metadata": {
    "tags": []
   },
   "outputs": [],
   "source": [
    "author = 'In Python'"
   ]
  },
  {
   "cell_type": "code",
   "execution_count": 35,
   "metadata": {},
   "outputs": [
    {
     "name": "stdout",
     "output_type": "stream",
     "text": [
      "Author: In Python\n"
     ]
    }
   ],
   "source": [
    "print(f\"Author: {author}\")\n"
   ]
  },
  {
   "cell_type": "markdown",
   "metadata": {},
   "source": [
    "## change parameter value in bash\n",
    "\n",
    "the param is existing in python kernel, so you cannot modify it in bash magic. but you can tell the bash magic to output the value to a specific param."
   ]
  },
  {
   "cell_type": "code",
   "execution_count": 36,
   "metadata": {
    "vscode": {
     "languageId": "shellscript"
    }
   },
   "outputs": [],
   "source": [
    "%%bash --out author --err error\n",
    "\n",
    "echo \"In Bash Magic\"\n",
    "echo \"no, error\" >&2"
   ]
  },
  {
   "cell_type": "code",
   "execution_count": 37,
   "metadata": {},
   "outputs": [
    {
     "name": "stdout",
     "output_type": "stream",
     "text": [
      "Author: In Bash Magic\n",
      "\n",
      "Error: no, error\n",
      "\n"
     ]
    }
   ],
   "source": [
    "print(f\"Author: {author}\")\n",
    "print(f\"Error: {error}\")"
   ]
  },
  {
   "cell_type": "markdown",
   "metadata": {},
   "source": [
    "## change parameter value in bash command\n",
    "\n",
    "rather than using bash magic, you can use inline bash command."
   ]
  },
  {
   "cell_type": "code",
   "execution_count": 43,
   "metadata": {},
   "outputs": [],
   "source": [
    "author = !echo In Bash"
   ]
  },
  {
   "cell_type": "code",
   "execution_count": 44,
   "metadata": {},
   "outputs": [
    {
     "name": "stdout",
     "output_type": "stream",
     "text": [
      "Author: ['In Bash']\n"
     ]
    }
   ],
   "source": [
    "print(f\"Author: {author}\")"
   ]
  }
 ],
 "metadata": {
  "kernelspec": {
   "display_name": "Python 3",
   "language": "python",
   "name": "python3"
  },
  "language_info": {
   "codemirror_mode": {
    "name": "ipython",
    "version": 3
   },
   "file_extension": ".py",
   "mimetype": "text/x-python",
   "name": "python",
   "nbconvert_exporter": "python",
   "pygments_lexer": "ipython3",
   "version": "3.12.0"
  }
 },
 "nbformat": 4,
 "nbformat_minor": 2
}
